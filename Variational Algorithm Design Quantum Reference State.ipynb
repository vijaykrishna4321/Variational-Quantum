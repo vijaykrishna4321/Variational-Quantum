{
 "cells": [
  {
   "cell_type": "markdown",
   "id": "14d8254c-8114-4c05-ae4c-42e0fdf722fd",
   "metadata": {},
   "source": [
    "Reference State\n",
    "Let's explore how to initialize our system with a reference state to help our variational algorithm converge faster. First, we will learn how to construct a reference state manually, and then explore several standard options that can be used in a variational algorithm.\n"
   ]
  },
  {
   "cell_type": "markdown",
   "id": "44587d9b-6cca-48a8-8a09-e05b6db10f3d",
   "metadata": {},
   "source": [
    "Initialize problem\n",
    "Default state, a 'reference state' refers to the initial fixed start for our problem. \n",
    "https://learning.quantum.ibm.com/course/variational-algorithm-design/reference-states"
   ]
  },
  {
   "cell_type": "markdown",
   "id": "752f014e-93ac-49c5-8d6e-13f4e26d73e1",
   "metadata": {},
   "source": [
    "Quantum Reference state\n",
    "Suppose you aim to start with a more complex state that involves superposition and/or entanglement, such as \n",
    "1/sqrt2 (∣100⟩+∣111⟩).\n",
    "To obtain this state from ∣000⟩ one approach is to use a Hadamard gate on qubit0 a CNOT (CX) gate with qubit 0 as the control qubit and qubit 1\n",
    "1 as the target qubit (\n",
    "In this scenario, our unitary operator is UR≡X2CNOT01H0∣000⟩ and our reference state is ∣ρ⟩≡1/sqrt2(∣100⟩+∣111⟩)"
   ]
  },
  {
   "cell_type": "markdown",
   "id": "f953735a-3028-4e0a-aa42-295d2ff73c66",
   "metadata": {},
   "source": [
    "In this is case our Unitary operator Ur = X0 which leads to the reference state |p> =|00>"
   ]
  },
  {
   "cell_type": "code",
   "execution_count": 1,
   "id": "03f59bc5-d876-4878-bdc3-f048147945e5",
   "metadata": {},
   "outputs": [],
   "source": [
    "from qiskit import QuantumCircuit"
   ]
  },
  {
   "cell_type": "code",
   "execution_count": 2,
   "id": "345c8bf6-078b-42f4-9e65-93e8cd050803",
   "metadata": {},
   "outputs": [],
   "source": [
    "qc = QuantumCircuit(3)"
   ]
  },
  {
   "cell_type": "code",
   "execution_count": 3,
   "id": "d40ab9a0-e2d3-46f1-b94a-a4ad84c11fbb",
   "metadata": {},
   "outputs": [
    {
     "data": {
      "text/plain": [
       "<qiskit.circuit.instructionset.InstructionSet at 0x203d7a7e1d0>"
      ]
     },
     "execution_count": 3,
     "metadata": {},
     "output_type": "execute_result"
    }
   ],
   "source": [
    "qc.h(0)"
   ]
  },
  {
   "cell_type": "code",
   "execution_count": 4,
   "id": "b5cc6cd9-4ecd-4744-baee-9f5294c9b98f",
   "metadata": {},
   "outputs": [
    {
     "data": {
      "image/png": "[encoded data removed]",
      "text/plain": [
       "<Figure size 287.496x284.278 with 1 Axes>"
      ]
     },
     "execution_count": 4,
     "metadata": {},
     "output_type": "execute_result"
    }
   ],
   "source": [
    "qc.cx(0,1)\n",
    "qc.x(2)\n",
    "qc.draw(\"mpl\")"
   ]
  },
  {
   "cell_type": "markdown",
   "id": "78b80fbe-53d2-40cb-b7ae-71e53c1cce32",
   "metadata": {},
   "source": [
    "Constructing Reference States using template circuits"
   ]
  },
  {
   "cell_type": "markdown",
   "id": "a95799ad-9734-4a25-84bf-ccc06456f488",
   "metadata": {},
   "source": [
    "from qiskit.circuit.library import TwoLocal\n",
    "from math import pi\n",
    "\n",
    "reference_circuit = TwoLocal(2, \"rx\", \"cz\", entanglement=\"linear\", reps=1)\n",
    "theta_list = [pi / 2, pi / 3, pi / 3, pi / 2]\n",
    "\n",
    "reference_circuit = reference_circuit.assign_parameters(theta_list)\n",
    "\n",
    "reference_circuit.decompose().draw(\"mpl\")"
   ]
  },
  {
   "cell_type": "code",
   "execution_count": null,
   "id": "e7e4e658-6da7-4506-ba68-ee97607af806",
   "metadata": {},
   "outputs": [],
   "source": [
    "Application-specific reference states"
   ]
  },
  {
   "cell_type": "code",
   "execution_count": 6,
   "id": "0291f85f-b9ce-451a-91f4-0fb8c76ef542",
   "metadata": {},
   "outputs": [
    {
     "data": {
      "image/png": "[encoded data removed]",
      "text/plain": [
       "<Figure size 956.183x200.667 with 1 Axes>"
      ]
     },
     "execution_count": 6,
     "metadata": {},
     "output_type": "execute_result"
    }
   ],
   "source": [
    "from qiskit.circuit.library import ZZFeatureMap\n",
    "\n",
    "data = [0.1, 0.2]\n",
    "\n",
    "zz_feature_map_reference = ZZFeatureMap(feature_dimension=2, reps=2)\n",
    "zz_feature_map_reference = zz_feature_map_reference.assign_parameters(data)\n",
    "zz_feature_map_reference.decompose().draw(\"mpl\")"
   ]
  },
  {
   "cell_type": "code",
   "execution_count": null,
   "id": "698a4743-b108-4af4-b093-b5895bd3e1c2",
   "metadata": {},
   "outputs": [],
   "source": []
  }
 ],
 "metadata": {
  "kernelspec": {
   "display_name": "Python 3 (ipykernel)",
   "language": "python",
   "name": "python3"
  },
  "language_info": {
   "codemirror_mode": {
    "name": "ipython",
    "version": 3
   },
   "file_extension": ".py",
   "mimetype": "text/x-python",
   "name": "python",
   "nbconvert_exporter": "python",
   "pygments_lexer": "ipython3",
   "version": "3.12.8"
  }
 },
 "nbformat": 4,
 "nbformat_minor": 5
}
